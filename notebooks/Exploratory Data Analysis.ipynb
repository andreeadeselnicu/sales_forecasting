{
 "metadata": {
  "language_info": {
   "codemirror_mode": {
    "name": "ipython",
    "version": 3
   },
   "file_extension": ".py",
   "mimetype": "text/x-python",
   "name": "python",
   "nbconvert_exporter": "python",
   "pygments_lexer": "ipython3",
   "version": "3.7.2"
  },
  "orig_nbformat": 2,
  "kernelspec": {
   "name": "python372jvsc74a57bd03db3eb6bc82ac8c0fe34b96ed3ffb0ea50ed8ded0ae7c6eee4350a77a6ca4770",
   "display_name": "Python 3.7.2 32-bit ('sales-forecasting-TH79oIx8-py3.7': poetry)"
  }
 },
 "nbformat": 4,
 "nbformat_minor": 2,
 "cells": [
  {
   "cell_type": "code",
   "execution_count": 1,
   "metadata": {},
   "outputs": [],
   "source": [
    "%reload_ext autoreload\n",
    "%autoreload 2"
   ]
  },
  {
   "source": [
    "import pandas as pd\n",
    "import plotly.express as px\n",
    "from sales_forecasting.api.model import RequestBody\n",
    "from pydantic import parse_obj_as\n",
    "from typing import List\n",
    "import gc"
   ],
   "cell_type": "code",
   "metadata": {},
   "execution_count": 2,
   "outputs": []
  },
  {
   "cell_type": "code",
   "execution_count": 3,
   "metadata": {},
   "outputs": [
    {
     "output_type": "execute_result",
     "data": {
      "text/plain": [
       "0"
      ]
     },
     "metadata": {},
     "execution_count": 3
    }
   ],
   "source": [
    "raw_sales_data=pd.read_csv('..//data//sales_per_store_per_day.csv', dtype={'Store':'Int64','DayOfWeek':'Int64','Sales':'Int64','Customers':'Int64','Open':'Int64','Promo':'Int64','StateHoliday':'str','SchoolHoliday':'Int64'}, parse_dates=['Date'])\n",
    "raw_dict=raw_sales_data.to_dict(orient='records')\n",
    "\n",
    "validated_sales=parse_obj_as(List[RequestBody],raw_dict)\n",
    "del raw_sales_data, raw_dict\n",
    "gc.collect()"
   ]
  },
  {
   "cell_type": "code",
   "execution_count": 4,
   "metadata": {},
   "outputs": [
    {
     "output_type": "execute_result",
     "data": {
      "text/plain": [
       "0"
      ]
     },
     "metadata": {},
     "execution_count": 4
    }
   ],
   "source": [
    "sales_df=pd.DataFrame([{\n",
    "    key:value \n",
    "    for key, value in validated_sale.dict().items()\n",
    "}\n",
    "for validated_sale in validated_sales\n",
    "])\n",
    "\n",
    "del validated_sales \n",
    "gc.collect()\n"
   ]
  },
  {
   "cell_type": "code",
   "execution_count": 5,
   "metadata": {},
   "outputs": [],
   "source": [
    "sales_df['sales_date']=pd.to_datetime(sales_df['sales_date'])"
   ]
  },
  {
   "cell_type": "code",
   "execution_count": 6,
   "metadata": {},
   "outputs": [
    {
     "output_type": "stream",
     "name": "stdout",
     "text": [
      "Minim available data info is from: 2013-01-01 00:00:00\nMaxim available data info is from: 2015-06-30 00:00:00\n"
     ]
    }
   ],
   "source": [
    "print('Minim available data info is from:',sales_df['sales_date'].min())\n",
    "print('Maxim available data info is from:',sales_df['sales_date'].max())\n",
    "sales_df['year']=sales_df['sales_date'].dt.year"
   ]
  },
  {
   "cell_type": "code",
   "execution_count": 7,
   "metadata": {},
   "outputs": [
    {
     "output_type": "stream",
     "name": "stdout",
     "text": [
      "Store data appearance\n"
     ]
    },
    {
     "output_type": "execute_result",
     "data": {
      "text/plain": [
       "233     911\n",
       "836     911\n",
       "308     911\n",
       "309     911\n",
       "821     911\n",
       "       ... \n",
       "778     727\n",
       "677     727\n",
       "952     727\n",
       "1065    727\n",
       "512     727\n",
       "Name: store, Length: 1115, dtype: int64"
      ]
     },
     "metadata": {},
     "execution_count": 7
    }
   ],
   "source": [
    "print('Store data appearance')\n",
    "sales_df['store'].value_counts()"
   ]
  },
  {
   "cell_type": "code",
   "execution_count": null,
   "metadata": {},
   "outputs": [],
   "source": [
    "##customers=no of customers per day at one store\n",
    "##sales = total sales amount at one store per day\n",
    "## state_holiday:\n",
    "## - b=Easter\n",
    "## - c=Christmas\n",
    "## - a=other holidays\n",
    "## data from same country?\n",
    "## magazinele nu au acelasi nr de inregistrari"
   ]
  },
  {
   "source": [
    "## Holidays analysis"
   ],
   "cell_type": "markdown",
   "metadata": {}
  },
  {
   "cell_type": "code",
   "execution_count": 58,
   "metadata": {},
   "outputs": [],
   "source": [
    "import holidays\n",
    "import datetime\n",
    "us_holidays = holidays.UnitedStates()"
   ]
  },
  {
   "cell_type": "code",
   "execution_count": 39,
   "metadata": {},
   "outputs": [],
   "source": [
    "sales_holidays=set(sales_df[sales_df['state_holiday']!='0']['sales_date'])"
   ]
  },
  {
   "cell_type": "code",
   "execution_count": 52,
   "metadata": {},
   "outputs": [
    {
     "output_type": "execute_result",
     "data": {
      "text/plain": [
       "sales_date        datetime64[ns]\n",
       "store                      int64\n",
       "sales                      int64\n",
       "customers                  int64\n",
       "open_flag                  int64\n",
       "promo                      int64\n",
       "day_of_week                int64\n",
       "state_holiday             object\n",
       "school_holiday             int64\n",
       "year                       int64\n",
       "dtype: object"
      ]
     },
     "metadata": {},
     "execution_count": 52
    }
   ],
   "source": [
    "sales_df.dtypes"
   ]
  },
  {
   "cell_type": "code",
   "execution_count": 78,
   "metadata": {},
   "outputs": [
    {
     "output_type": "execute_result",
     "data": {
      "text/plain": [
       "0    919\n",
       "1     16\n",
       "Name: open_flag, dtype: int64"
      ]
     },
     "metadata": {},
     "execution_count": 78
    }
   ],
   "source": [
    "sales_df[sales_df['sales_date']==datetime.datetime(2014,12,25)]['open_flag'].value_counts()"
   ]
  },
  {
   "cell_type": "code",
   "execution_count": 59,
   "metadata": {},
   "outputs": [
    {
     "output_type": "execute_result",
     "data": {
      "text/plain": [
       "{Timestamp('2013-01-06 00:00:00'),\n",
       " Timestamp('2013-03-29 00:00:00'),\n",
       " Timestamp('2013-04-01 00:00:00'),\n",
       " Timestamp('2013-05-01 00:00:00'),\n",
       " Timestamp('2013-05-09 00:00:00'),\n",
       " Timestamp('2013-05-20 00:00:00'),\n",
       " Timestamp('2013-05-30 00:00:00'),\n",
       " Timestamp('2013-08-15 00:00:00'),\n",
       " Timestamp('2013-10-03 00:00:00'),\n",
       " Timestamp('2013-10-31 00:00:00'),\n",
       " Timestamp('2013-11-01 00:00:00'),\n",
       " Timestamp('2013-11-20 00:00:00'),\n",
       " Timestamp('2013-12-26 00:00:00'),\n",
       " Timestamp('2014-01-06 00:00:00'),\n",
       " Timestamp('2014-04-18 00:00:00'),\n",
       " Timestamp('2014-04-21 00:00:00'),\n",
       " Timestamp('2014-05-01 00:00:00'),\n",
       " Timestamp('2014-05-29 00:00:00'),\n",
       " Timestamp('2014-06-09 00:00:00'),\n",
       " Timestamp('2014-06-19 00:00:00'),\n",
       " Timestamp('2014-10-03 00:00:00'),\n",
       " Timestamp('2014-10-31 00:00:00'),\n",
       " Timestamp('2014-11-01 00:00:00'),\n",
       " Timestamp('2014-11-19 00:00:00'),\n",
       " Timestamp('2014-12-26 00:00:00'),\n",
       " Timestamp('2015-01-06 00:00:00'),\n",
       " Timestamp('2015-04-03 00:00:00'),\n",
       " Timestamp('2015-04-06 00:00:00'),\n",
       " Timestamp('2015-05-01 00:00:00'),\n",
       " Timestamp('2015-05-14 00:00:00'),\n",
       " Timestamp('2015-06-04 00:00:00')}"
      ]
     },
     "metadata": {},
     "execution_count": 59
    }
   ],
   "source": [
    "set([sales for sales in sales_holidays\n",
    "if sales not in us_holidays])"
   ]
  },
  {
   "source": [
    "## Nonstop available stores"
   ],
   "cell_type": "markdown",
   "metadata": {}
  },
  {
   "source": [
    "## top magazine"
   ],
   "cell_type": "code",
   "metadata": {},
   "execution_count": null,
   "outputs": []
  },
  {
   "cell_type": "code",
   "execution_count": 84,
   "metadata": {},
   "outputs": [],
   "source": [
    "stores_per_open_holiday=sales_df.groupby(['store','open_flag','state_holiday','school_holiday']).agg({\n",
    "    'customers':'sum',\n",
    "    'sales':'sum'\n",
    "})\n",
    "stores_per_open_holiday.reset_index(inplace=True)"
   ]
  },
  {
   "cell_type": "code",
   "execution_count": 97,
   "metadata": {},
   "outputs": [],
   "source": [
    "nonstop_stores=stores_per_open_holiday[(stores_per_open_holiday['state_holiday']!='0') & (stores_per_open_holiday['open_flag']==1)].copy()"
   ]
  },
  {
   "cell_type": "code",
   "execution_count": 100,
   "metadata": {},
   "outputs": [],
   "source": [
    "nonstop_stores['sales/customers']=nonstop_stores['sales']/nonstop_stores['customers']"
   ]
  },
  {
   "cell_type": "code",
   "execution_count": 106,
   "metadata": {},
   "outputs": [
    {
     "output_type": "execute_result",
     "data": {
      "text/plain": [
       "156"
      ]
     },
     "metadata": {},
     "execution_count": 106
    }
   ],
   "source": [
    "len(nonstop_stores['store'].unique())"
   ]
  },
  {
   "cell_type": "code",
   "execution_count": 101,
   "metadata": {},
   "outputs": [
    {
     "output_type": "display_data",
     "data": {
      "application/vnd.plotly.v1+json": {
       "config": {
        "plotlyServerURL": "https://plotly.com"
       },
       "data": [
        {
         "alignmentgroup": "True",
         "hovertemplate": "store=%{x}<br>sales/customers=%{y}<extra></extra>",
         "legendgroup": "",
         "marker": {
          "color": "#636efa"
         },
         "name": "",
         "offsetgroup": "",
         "orientation": "v",
         "showlegend": false,
         "textposition": "auto",
         "type": "bar",
         "x": [
          2,
          5,
          6,
          7,
          54,
          54,
          55,
          57,
          58,
          60,
          72,
          76,
          85,
          85,
          85,
          85,
          91,
          95,
          96,
          97,
          102,
          114,
          121,
          122,
          122,
          127,
          138,
          144,
          155,
          159,
          164,
          178,
          181,
          183,
          203,
          203,
          209,
          209,
          225,
          243,
          259,
          259,
          259,
          259,
          262,
          262,
          262,
          262,
          266,
          271,
          274,
          274,
          274,
          274,
          276,
          279,
          291,
          299,
          299,
          299,
          300,
          310,
          310,
          318,
          321,
          335,
          335,
          335,
          335,
          353,
          353,
          353,
          353,
          357,
          401,
          415,
          423,
          423,
          423,
          423,
          427,
          433,
          433,
          436,
          437,
          438,
          443,
          444,
          453,
          453,
          476,
          479,
          479,
          482,
          482,
          492,
          494,
          494,
          494,
          494,
          512,
          512,
          512,
          512,
          517,
          518,
          522,
          524,
          524,
          527,
          530,
          530,
          530,
          530,
          534,
          544,
          555,
          562,
          562,
          562,
          562,
          575,
          578,
          578,
          582,
          587,
          605,
          612,
          614,
          617,
          626,
          634,
          636,
          654,
          672,
          675,
          676,
          676,
          676,
          676,
          682,
          682,
          682,
          682,
          686,
          708,
          711,
          726,
          732,
          732,
          733,
          733,
          733,
          733,
          743,
          745,
          769,
          769,
          769,
          769,
          777,
          779,
          780,
          787,
          794,
          798,
          808,
          812,
          830,
          836,
          841,
          854,
          863,
          863,
          867,
          867,
          869,
          873,
          892,
          899,
          918,
          921,
          931,
          931,
          932,
          933,
          940,
          948,
          948,
          948,
          948,
          963,
          968,
          977,
          978,
          982,
          990,
          993,
          995,
          996,
          999,
          1017,
          1019,
          1023,
          1027,
          1034,
          1035,
          1037,
          1045,
          1045,
          1056,
          1074,
          1081,
          1081,
          1081,
          1081,
          1082,
          1084,
          1090,
          1093,
          1097,
          1097,
          1097,
          1097,
          1098,
          1099,
          1099,
          1099,
          1107,
          1108
         ],
         "xaxis": "x",
         "y": [
          6.941558441558442,
          9.114929577464789,
          8.859888720283257,
          7.1484814398200225,
          8.780595813204508,
          8.835849056603774,
          8.353176874642244,
          12.087266251113089,
          11.824091778202677,
          11.824844720496895,
          9.40956340956341,
          9.836622807017545,
          7.2332383124287345,
          6.942404227212681,
          7.15547098001903,
          7.81156944105443,
          6.964285714285714,
          9.714394516374714,
          9.877717391304348,
          9.843286742905548,
          5.7,
          6.765734265734266,
          9.256596306068602,
          7.407187176835574,
          7.085287846481877,
          8.857589984350549,
          9.698683742440412,
          5.934628975265018,
          10.779220779220779,
          11.299731182795698,
          9.76996805111821,
          11.635692720563569,
          10.00598086124402,
          7.9447852760736195,
          5.416149068322981,
          5.832530120481928,
          8.441264162194395,
          9.317733990147783,
          6.480061349693251,
          7.293061224489796,
          5.835684725357412,
          5.487944421740907,
          5.851204396632367,
          6.383135444151275,
          6.722875745472452,
          6.788738155293476,
          6.851856716025873,
          7.236476442835908,
          8.144225651942522,
          10.341212352268395,
          4.860906780794436,
          4.539964476021314,
          4.958008701811191,
          5.37192474674385,
          7.937537180249851,
          14.02291325695581,
          9.782885431400283,
          8.50537330316742,
          8.476190476190476,
          9.473684210526315,
          7.221115537848606,
          10.294776119402986,
          9.563084112149532,
          11.60779105799026,
          10.865866388308977,
          5.758016262657256,
          5.520304568527918,
          5.4309221803222485,
          5.832313341493268,
          4.6798144648685795,
          4.565504241281809,
          4.809013282732447,
          5.254985754985755,
          7.9112192155670416,
          11.18983355825461,
          5.191489361702128,
          6.742065322208712,
          6.276595744680851,
          6.7369296261806575,
          7.578029642545771,
          13.054469273743017,
          7.3568345323741005,
          6.40952380952381,
          9.215675960021041,
          10.725091288471571,
          9.936,
          10.785310734463277,
          9.07607555089192,
          7.511111111111111,
          7.440758293838862,
          9.279113625648279,
          5.935794542536115,
          5.679049034175335,
          6.972176759410802,
          7.587467362924282,
          6.85176282051282,
          6.726512226512226,
          6.375811411001025,
          6.479179614667495,
          6.659751037344399,
          5.422771260204358,
          5.043216564343325,
          5.376051166646927,
          5.956374212312166,
          4.1323722149410225,
          10.585313174946004,
          12.522935779816514,
          8.009708737864077,
          7.994475138121547,
          7.844827586206897,
          5.556025369978858,
          5.11499493414387,
          5.597119892833222,
          6.449445983379501,
          12.883116883116884,
          7.993717277486911,
          6.078947368421052,
          6.154781856517273,
          5.439276018099547,
          5.966663412729402,
          6.537264100650389,
          10.406810035842295,
          9.423165430836104,
          8.814425770308123,
          4.352941176470588,
          10.183168316831683,
          6.137931034482759,
          16.831797235023043,
          7.111444778111445,
          11.38367129135539,
          11.703565365025467,
          10.176575771122039,
          8.449927431059507,
          10.069379014989293,
          6.482566585956416,
          6.454225352112676,
          6.034533408338021,
          5.872109826589595,
          6.156955039766272,
          6.691973969631237,
          5.9672616896726165,
          6.024977698483497,
          6.1430627173522,
          6.490863264020164,
          8.09303148213654,
          12.991223258365332,
          14.282534246575343,
          10.568902610159977,
          8.02853394555592,
          7.928989139515456,
          4.976288483790808,
          4.83348590259978,
          4.963565891472868,
          5.492516873716131,
          9.674181818181818,
          11.06810631229236,
          4.302519113236057,
          4.21372446306967,
          4.411858580898601,
          4.837083421778815,
          8.981176470588235,
          10.50766535260622,
          7.919932432432432,
          9.296296296296296,
          6.093167701863354,
          8.646899356150458,
          12.551401869158878,
          8.57748136524127,
          12.44516129032258,
          8.52452025586354,
          7.163498098859316,
          10.11437758383096,
          7.1034172661870505,
          7.251461988304094,
          9.072111846946283,
          8.970149253731343,
          7.1757063981812275,
          9.188118811881187,
          10.470038910505837,
          9.74231414197876,
          9.752723311546841,
          8.879368658399098,
          6.62972553081305,
          6.731386861313869,
          10.56562137049942,
          8.179327976625274,
          10.133710801393729,
          5.284304443870671,
          5.111143723706095,
          5.1269236999838,
          5.689010989010989,
          10.649586335735254,
          8.551724137931034,
          9.723958333333334,
          7.7725856697819315,
          12.114911080711355,
          11.405757740358501,
          10.615769712140175,
          12.914911193721602,
          10.219246482069904,
          14.855097613882863,
          7.097545821683752,
          13.221238938053098,
          10.859423274974253,
          7.519736842105263,
          9.05587044534413,
          8.558951965065502,
          6.213114754098361,
          6.123419012647899,
          6.807152875175316,
          10.602605863192183,
          10.336334745762711,
          6.334761007366798,
          6.179321486268175,
          6.3029480217222655,
          6.652785007808433,
          7.2008032128514055,
          6.264204545454546,
          8.49867071781238,
          9.717299578059071,
          4.972642509006145,
          4.562253397632618,
          4.977225291589932,
          5.240727002967359,
          7.818098720292505,
          6.338722459977809,
          6.048648648648649,
          6.421494542401343,
          9.457627118644067,
          10.138097537421535
         ],
         "yaxis": "y"
        }
       ],
       "layout": {
        "barmode": "relative",
        "legend": {
         "tracegroupgap": 0
        },
        "margin": {
         "t": 60
        },
        "template": {
         "data": {
          "bar": [
           {
            "error_x": {
             "color": "#2a3f5f"
            },
            "error_y": {
             "color": "#2a3f5f"
            },
            "marker": {
             "line": {
              "color": "#E5ECF6",
              "width": 0.5
             }
            },
            "type": "bar"
           }
          ],
          "barpolar": [
           {
            "marker": {
             "line": {
              "color": "#E5ECF6",
              "width": 0.5
             }
            },
            "type": "barpolar"
           }
          ],
          "carpet": [
           {
            "aaxis": {
             "endlinecolor": "#2a3f5f",
             "gridcolor": "white",
             "linecolor": "white",
             "minorgridcolor": "white",
             "startlinecolor": "#2a3f5f"
            },
            "baxis": {
             "endlinecolor": "#2a3f5f",
             "gridcolor": "white",
             "linecolor": "white",
             "minorgridcolor": "white",
             "startlinecolor": "#2a3f5f"
            },
            "type": "carpet"
           }
          ],
          "choropleth": [
           {
            "colorbar": {
             "outlinewidth": 0,
             "ticks": ""
            },
            "type": "choropleth"
           }
          ],
          "contour": [
           {
            "colorbar": {
             "outlinewidth": 0,
             "ticks": ""
            },
            "colorscale": [
             [
              0,
              "#0d0887"
             ],
             [
              0.1111111111111111,
              "#46039f"
             ],
             [
              0.2222222222222222,
              "#7201a8"
             ],
             [
              0.3333333333333333,
              "#9c179e"
             ],
             [
              0.4444444444444444,
              "#bd3786"
             ],
             [
              0.5555555555555556,
              "#d8576b"
             ],
             [
              0.6666666666666666,
              "#ed7953"
             ],
             [
              0.7777777777777778,
              "#fb9f3a"
             ],
             [
              0.8888888888888888,
              "#fdca26"
             ],
             [
              1,
              "#f0f921"
             ]
            ],
            "type": "contour"
           }
          ],
          "contourcarpet": [
           {
            "colorbar": {
             "outlinewidth": 0,
             "ticks": ""
            },
            "type": "contourcarpet"
           }
          ],
          "heatmap": [
           {
            "colorbar": {
             "outlinewidth": 0,
             "ticks": ""
            },
            "colorscale": [
             [
              0,
              "#0d0887"
             ],
             [
              0.1111111111111111,
              "#46039f"
             ],
             [
              0.2222222222222222,
              "#7201a8"
             ],
             [
              0.3333333333333333,
              "#9c179e"
             ],
             [
              0.4444444444444444,
              "#bd3786"
             ],
             [
              0.5555555555555556,
              "#d8576b"
             ],
             [
              0.6666666666666666,
              "#ed7953"
             ],
             [
              0.7777777777777778,
              "#fb9f3a"
             ],
             [
              0.8888888888888888,
              "#fdca26"
             ],
             [
              1,
              "#f0f921"
             ]
            ],
            "type": "heatmap"
           }
          ],
          "heatmapgl": [
           {
            "colorbar": {
             "outlinewidth": 0,
             "ticks": ""
            },
            "colorscale": [
             [
              0,
              "#0d0887"
             ],
             [
              0.1111111111111111,
              "#46039f"
             ],
             [
              0.2222222222222222,
              "#7201a8"
             ],
             [
              0.3333333333333333,
              "#9c179e"
             ],
             [
              0.4444444444444444,
              "#bd3786"
             ],
             [
              0.5555555555555556,
              "#d8576b"
             ],
             [
              0.6666666666666666,
              "#ed7953"
             ],
             [
              0.7777777777777778,
              "#fb9f3a"
             ],
             [
              0.8888888888888888,
              "#fdca26"
             ],
             [
              1,
              "#f0f921"
             ]
            ],
            "type": "heatmapgl"
           }
          ],
          "histogram": [
           {
            "marker": {
             "colorbar": {
              "outlinewidth": 0,
              "ticks": ""
             }
            },
            "type": "histogram"
           }
          ],
          "histogram2d": [
           {
            "colorbar": {
             "outlinewidth": 0,
             "ticks": ""
            },
            "colorscale": [
             [
              0,
              "#0d0887"
             ],
             [
              0.1111111111111111,
              "#46039f"
             ],
             [
              0.2222222222222222,
              "#7201a8"
             ],
             [
              0.3333333333333333,
              "#9c179e"
             ],
             [
              0.4444444444444444,
              "#bd3786"
             ],
             [
              0.5555555555555556,
              "#d8576b"
             ],
             [
              0.6666666666666666,
              "#ed7953"
             ],
             [
              0.7777777777777778,
              "#fb9f3a"
             ],
             [
              0.8888888888888888,
              "#fdca26"
             ],
             [
              1,
              "#f0f921"
             ]
            ],
            "type": "histogram2d"
           }
          ],
          "histogram2dcontour": [
           {
            "colorbar": {
             "outlinewidth": 0,
             "ticks": ""
            },
            "colorscale": [
             [
              0,
              "#0d0887"
             ],
             [
              0.1111111111111111,
              "#46039f"
             ],
             [
              0.2222222222222222,
              "#7201a8"
             ],
             [
              0.3333333333333333,
              "#9c179e"
             ],
             [
              0.4444444444444444,
              "#bd3786"
             ],
             [
              0.5555555555555556,
              "#d8576b"
             ],
             [
              0.6666666666666666,
              "#ed7953"
             ],
             [
              0.7777777777777778,
              "#fb9f3a"
             ],
             [
              0.8888888888888888,
              "#fdca26"
             ],
             [
              1,
              "#f0f921"
             ]
            ],
            "type": "histogram2dcontour"
           }
          ],
          "mesh3d": [
           {
            "colorbar": {
             "outlinewidth": 0,
             "ticks": ""
            },
            "type": "mesh3d"
           }
          ],
          "parcoords": [
           {
            "line": {
             "colorbar": {
              "outlinewidth": 0,
              "ticks": ""
             }
            },
            "type": "parcoords"
           }
          ],
          "pie": [
           {
            "automargin": true,
            "type": "pie"
           }
          ],
          "scatter": [
           {
            "marker": {
             "colorbar": {
              "outlinewidth": 0,
              "ticks": ""
             }
            },
            "type": "scatter"
           }
          ],
          "scatter3d": [
           {
            "line": {
             "colorbar": {
              "outlinewidth": 0,
              "ticks": ""
             }
            },
            "marker": {
             "colorbar": {
              "outlinewidth": 0,
              "ticks": ""
             }
            },
            "type": "scatter3d"
           }
          ],
          "scattercarpet": [
           {
            "marker": {
             "colorbar": {
              "outlinewidth": 0,
              "ticks": ""
             }
            },
            "type": "scattercarpet"
           }
          ],
          "scattergeo": [
           {
            "marker": {
             "colorbar": {
              "outlinewidth": 0,
              "ticks": ""
             }
            },
            "type": "scattergeo"
           }
          ],
          "scattergl": [
           {
            "marker": {
             "colorbar": {
              "outlinewidth": 0,
              "ticks": ""
             }
            },
            "type": "scattergl"
           }
          ],
          "scattermapbox": [
           {
            "marker": {
             "colorbar": {
              "outlinewidth": 0,
              "ticks": ""
             }
            },
            "type": "scattermapbox"
           }
          ],
          "scatterpolar": [
           {
            "marker": {
             "colorbar": {
              "outlinewidth": 0,
              "ticks": ""
             }
            },
            "type": "scatterpolar"
           }
          ],
          "scatterpolargl": [
           {
            "marker": {
             "colorbar": {
              "outlinewidth": 0,
              "ticks": ""
             }
            },
            "type": "scatterpolargl"
           }
          ],
          "scatterternary": [
           {
            "marker": {
             "colorbar": {
              "outlinewidth": 0,
              "ticks": ""
             }
            },
            "type": "scatterternary"
           }
          ],
          "surface": [
           {
            "colorbar": {
             "outlinewidth": 0,
             "ticks": ""
            },
            "colorscale": [
             [
              0,
              "#0d0887"
             ],
             [
              0.1111111111111111,
              "#46039f"
             ],
             [
              0.2222222222222222,
              "#7201a8"
             ],
             [
              0.3333333333333333,
              "#9c179e"
             ],
             [
              0.4444444444444444,
              "#bd3786"
             ],
             [
              0.5555555555555556,
              "#d8576b"
             ],
             [
              0.6666666666666666,
              "#ed7953"
             ],
             [
              0.7777777777777778,
              "#fb9f3a"
             ],
             [
              0.8888888888888888,
              "#fdca26"
             ],
             [
              1,
              "#f0f921"
             ]
            ],
            "type": "surface"
           }
          ],
          "table": [
           {
            "cells": {
             "fill": {
              "color": "#EBF0F8"
             },
             "line": {
              "color": "white"
             }
            },
            "header": {
             "fill": {
              "color": "#C8D4E3"
             },
             "line": {
              "color": "white"
             }
            },
            "type": "table"
           }
          ]
         },
         "layout": {
          "annotationdefaults": {
           "arrowcolor": "#2a3f5f",
           "arrowhead": 0,
           "arrowwidth": 1
          },
          "autotypenumbers": "strict",
          "coloraxis": {
           "colorbar": {
            "outlinewidth": 0,
            "ticks": ""
           }
          },
          "colorscale": {
           "diverging": [
            [
             0,
             "#8e0152"
            ],
            [
             0.1,
             "#c51b7d"
            ],
            [
             0.2,
             "#de77ae"
            ],
            [
             0.3,
             "#f1b6da"
            ],
            [
             0.4,
             "#fde0ef"
            ],
            [
             0.5,
             "#f7f7f7"
            ],
            [
             0.6,
             "#e6f5d0"
            ],
            [
             0.7,
             "#b8e186"
            ],
            [
             0.8,
             "#7fbc41"
            ],
            [
             0.9,
             "#4d9221"
            ],
            [
             1,
             "#276419"
            ]
           ],
           "sequential": [
            [
             0,
             "#0d0887"
            ],
            [
             0.1111111111111111,
             "#46039f"
            ],
            [
             0.2222222222222222,
             "#7201a8"
            ],
            [
             0.3333333333333333,
             "#9c179e"
            ],
            [
             0.4444444444444444,
             "#bd3786"
            ],
            [
             0.5555555555555556,
             "#d8576b"
            ],
            [
             0.6666666666666666,
             "#ed7953"
            ],
            [
             0.7777777777777778,
             "#fb9f3a"
            ],
            [
             0.8888888888888888,
             "#fdca26"
            ],
            [
             1,
             "#f0f921"
            ]
           ],
           "sequentialminus": [
            [
             0,
             "#0d0887"
            ],
            [
             0.1111111111111111,
             "#46039f"
            ],
            [
             0.2222222222222222,
             "#7201a8"
            ],
            [
             0.3333333333333333,
             "#9c179e"
            ],
            [
             0.4444444444444444,
             "#bd3786"
            ],
            [
             0.5555555555555556,
             "#d8576b"
            ],
            [
             0.6666666666666666,
             "#ed7953"
            ],
            [
             0.7777777777777778,
             "#fb9f3a"
            ],
            [
             0.8888888888888888,
             "#fdca26"
            ],
            [
             1,
             "#f0f921"
            ]
           ]
          },
          "colorway": [
           "#636efa",
           "#EF553B",
           "#00cc96",
           "#ab63fa",
           "#FFA15A",
           "#19d3f3",
           "#FF6692",
           "#B6E880",
           "#FF97FF",
           "#FECB52"
          ],
          "font": {
           "color": "#2a3f5f"
          },
          "geo": {
           "bgcolor": "white",
           "lakecolor": "white",
           "landcolor": "#E5ECF6",
           "showlakes": true,
           "showland": true,
           "subunitcolor": "white"
          },
          "hoverlabel": {
           "align": "left"
          },
          "hovermode": "closest",
          "mapbox": {
           "style": "light"
          },
          "paper_bgcolor": "white",
          "plot_bgcolor": "#E5ECF6",
          "polar": {
           "angularaxis": {
            "gridcolor": "white",
            "linecolor": "white",
            "ticks": ""
           },
           "bgcolor": "#E5ECF6",
           "radialaxis": {
            "gridcolor": "white",
            "linecolor": "white",
            "ticks": ""
           }
          },
          "scene": {
           "xaxis": {
            "backgroundcolor": "#E5ECF6",
            "gridcolor": "white",
            "gridwidth": 2,
            "linecolor": "white",
            "showbackground": true,
            "ticks": "",
            "zerolinecolor": "white"
           },
           "yaxis": {
            "backgroundcolor": "#E5ECF6",
            "gridcolor": "white",
            "gridwidth": 2,
            "linecolor": "white",
            "showbackground": true,
            "ticks": "",
            "zerolinecolor": "white"
           },
           "zaxis": {
            "backgroundcolor": "#E5ECF6",
            "gridcolor": "white",
            "gridwidth": 2,
            "linecolor": "white",
            "showbackground": true,
            "ticks": "",
            "zerolinecolor": "white"
           }
          },
          "shapedefaults": {
           "line": {
            "color": "#2a3f5f"
           }
          },
          "ternary": {
           "aaxis": {
            "gridcolor": "white",
            "linecolor": "white",
            "ticks": ""
           },
           "baxis": {
            "gridcolor": "white",
            "linecolor": "white",
            "ticks": ""
           },
           "bgcolor": "#E5ECF6",
           "caxis": {
            "gridcolor": "white",
            "linecolor": "white",
            "ticks": ""
           }
          },
          "title": {
           "x": 0.05
          },
          "xaxis": {
           "automargin": true,
           "gridcolor": "white",
           "linecolor": "white",
           "ticks": "",
           "title": {
            "standoff": 15
           },
           "zerolinecolor": "white",
           "zerolinewidth": 2
          },
          "yaxis": {
           "automargin": true,
           "gridcolor": "white",
           "linecolor": "white",
           "ticks": "",
           "title": {
            "standoff": 15
           },
           "zerolinecolor": "white",
           "zerolinewidth": 2
          }
         }
        },
        "xaxis": {
         "anchor": "y",
         "domain": [
          0,
          1
         ],
         "title": {
          "text": "store"
         }
        },
        "yaxis": {
         "anchor": "x",
         "domain": [
          0,
          1
         ],
         "title": {
          "text": "sales/customers"
         }
        }
       }
      }
     },
     "metadata": {}
    }
   ],
   "source": [
    "import plotly.express as px\n",
    "fig = px.bar(nonstop_stores, x='store', y='sales/customers')\n",
    "fig.show()"
   ]
  },
  {
   "cell_type": "code",
   "execution_count": 102,
   "metadata": {},
   "outputs": [
    {
     "output_type": "execute_result",
     "data": {
      "text/plain": [
       "      store  open_flag state_holiday  school_holiday  customers  sales  \\\n",
       "17        2          1             a               0        770   5345   \n",
       "39        5          1             a               0       1775  16179   \n",
       "47        6          1             a               0       1977  17516   \n",
       "55        7          1             a               0        889   6355   \n",
       "398      54          1             a               0       2484  21811   \n",
       "...     ...        ...           ...             ...        ...    ...   \n",
       "8149   1099          1             a               0       6309  39991   \n",
       "8150   1099          1             b               1       2590  15666   \n",
       "8151   1099          1             c               1       1191   7648   \n",
       "8210   1107          1             a               1        649   6138   \n",
       "8218   1108          1             a               0       2071  20996   \n",
       "\n",
       "      sales/customers  \n",
       "17           6.941558  \n",
       "39           9.114930  \n",
       "47           8.859889  \n",
       "55           7.148481  \n",
       "398          8.780596  \n",
       "...               ...  \n",
       "8149         6.338722  \n",
       "8150         6.048649  \n",
       "8151         6.421495  \n",
       "8210         9.457627  \n",
       "8218        10.138098  \n",
       "\n",
       "[230 rows x 7 columns]"
      ],
      "text/html": "<div>\n<style scoped>\n    .dataframe tbody tr th:only-of-type {\n        vertical-align: middle;\n    }\n\n    .dataframe tbody tr th {\n        vertical-align: top;\n    }\n\n    .dataframe thead th {\n        text-align: right;\n    }\n</style>\n<table border=\"1\" class=\"dataframe\">\n  <thead>\n    <tr style=\"text-align: right;\">\n      <th></th>\n      <th>store</th>\n      <th>open_flag</th>\n      <th>state_holiday</th>\n      <th>school_holiday</th>\n      <th>customers</th>\n      <th>sales</th>\n      <th>sales/customers</th>\n    </tr>\n  </thead>\n  <tbody>\n    <tr>\n      <th>17</th>\n      <td>2</td>\n      <td>1</td>\n      <td>a</td>\n      <td>0</td>\n      <td>770</td>\n      <td>5345</td>\n      <td>6.941558</td>\n    </tr>\n    <tr>\n      <th>39</th>\n      <td>5</td>\n      <td>1</td>\n      <td>a</td>\n      <td>0</td>\n      <td>1775</td>\n      <td>16179</td>\n      <td>9.114930</td>\n    </tr>\n    <tr>\n      <th>47</th>\n      <td>6</td>\n      <td>1</td>\n      <td>a</td>\n      <td>0</td>\n      <td>1977</td>\n      <td>17516</td>\n      <td>8.859889</td>\n    </tr>\n    <tr>\n      <th>55</th>\n      <td>7</td>\n      <td>1</td>\n      <td>a</td>\n      <td>0</td>\n      <td>889</td>\n      <td>6355</td>\n      <td>7.148481</td>\n    </tr>\n    <tr>\n      <th>398</th>\n      <td>54</td>\n      <td>1</td>\n      <td>a</td>\n      <td>0</td>\n      <td>2484</td>\n      <td>21811</td>\n      <td>8.780596</td>\n    </tr>\n    <tr>\n      <th>...</th>\n      <td>...</td>\n      <td>...</td>\n      <td>...</td>\n      <td>...</td>\n      <td>...</td>\n      <td>...</td>\n      <td>...</td>\n    </tr>\n    <tr>\n      <th>8149</th>\n      <td>1099</td>\n      <td>1</td>\n      <td>a</td>\n      <td>0</td>\n      <td>6309</td>\n      <td>39991</td>\n      <td>6.338722</td>\n    </tr>\n    <tr>\n      <th>8150</th>\n      <td>1099</td>\n      <td>1</td>\n      <td>b</td>\n      <td>1</td>\n      <td>2590</td>\n      <td>15666</td>\n      <td>6.048649</td>\n    </tr>\n    <tr>\n      <th>8151</th>\n      <td>1099</td>\n      <td>1</td>\n      <td>c</td>\n      <td>1</td>\n      <td>1191</td>\n      <td>7648</td>\n      <td>6.421495</td>\n    </tr>\n    <tr>\n      <th>8210</th>\n      <td>1107</td>\n      <td>1</td>\n      <td>a</td>\n      <td>1</td>\n      <td>649</td>\n      <td>6138</td>\n      <td>9.457627</td>\n    </tr>\n    <tr>\n      <th>8218</th>\n      <td>1108</td>\n      <td>1</td>\n      <td>a</td>\n      <td>0</td>\n      <td>2071</td>\n      <td>20996</td>\n      <td>10.138098</td>\n    </tr>\n  </tbody>\n</table>\n<p>230 rows × 7 columns</p>\n</div>"
     },
     "metadata": {},
     "execution_count": 102
    }
   ],
   "source": [
    "nonstop_stores"
   ]
  },
  {
   "cell_type": "code",
   "execution_count": null,
   "metadata": {},
   "outputs": [],
   "source": []
  },
  {
   "cell_type": "code",
   "execution_count": 17,
   "metadata": {},
   "outputs": [
    {
     "output_type": "execute_result",
     "data": {
      "text/plain": [
       "         sale_date  store  sales  customers  open_flag  promo  day_of_week  \\\n",
       "0       2015-06-30      1   5735        568          1      1            2   \n",
       "1       2015-06-30      2   9863        877          1      1            2   \n",
       "2       2015-06-30      3  13261       1072          1      1            2   \n",
       "3       2015-06-30      4  13106       1488          1      1            2   \n",
       "4       2015-06-30      5   6635        645          1      1            2   \n",
       "...            ...    ...    ...        ...        ...    ...          ...   \n",
       "982639  2013-01-01   1111      0          0          0      0            2   \n",
       "982640  2013-01-01   1112      0          0          0      0            2   \n",
       "982641  2013-01-01   1113      0          0          0      0            2   \n",
       "982642  2013-01-01   1114      0          0          0      0            2   \n",
       "982643  2013-01-01   1115      0          0          0      0            2   \n",
       "\n",
       "       state_holiday  school_holiday  \n",
       "0                  0               0  \n",
       "1                  0               0  \n",
       "2                  0               1  \n",
       "3                  0               0  \n",
       "4                  0               0  \n",
       "...              ...             ...  \n",
       "982639             a               1  \n",
       "982640             a               1  \n",
       "982641             a               1  \n",
       "982642             a               1  \n",
       "982643             a               1  \n",
       "\n",
       "[982644 rows x 9 columns]"
      ],
      "text/html": "<div>\n<style scoped>\n    .dataframe tbody tr th:only-of-type {\n        vertical-align: middle;\n    }\n\n    .dataframe tbody tr th {\n        vertical-align: top;\n    }\n\n    .dataframe thead th {\n        text-align: right;\n    }\n</style>\n<table border=\"1\" class=\"dataframe\">\n  <thead>\n    <tr style=\"text-align: right;\">\n      <th></th>\n      <th>sale_date</th>\n      <th>store</th>\n      <th>sales</th>\n      <th>customers</th>\n      <th>open_flag</th>\n      <th>promo</th>\n      <th>day_of_week</th>\n      <th>state_holiday</th>\n      <th>school_holiday</th>\n    </tr>\n  </thead>\n  <tbody>\n    <tr>\n      <th>0</th>\n      <td>2015-06-30</td>\n      <td>1</td>\n      <td>5735</td>\n      <td>568</td>\n      <td>1</td>\n      <td>1</td>\n      <td>2</td>\n      <td>0</td>\n      <td>0</td>\n    </tr>\n    <tr>\n      <th>1</th>\n      <td>2015-06-30</td>\n      <td>2</td>\n      <td>9863</td>\n      <td>877</td>\n      <td>1</td>\n      <td>1</td>\n      <td>2</td>\n      <td>0</td>\n      <td>0</td>\n    </tr>\n    <tr>\n      <th>2</th>\n      <td>2015-06-30</td>\n      <td>3</td>\n      <td>13261</td>\n      <td>1072</td>\n      <td>1</td>\n      <td>1</td>\n      <td>2</td>\n      <td>0</td>\n      <td>1</td>\n    </tr>\n    <tr>\n      <th>3</th>\n      <td>2015-06-30</td>\n      <td>4</td>\n      <td>13106</td>\n      <td>1488</td>\n      <td>1</td>\n      <td>1</td>\n      <td>2</td>\n      <td>0</td>\n      <td>0</td>\n    </tr>\n    <tr>\n      <th>4</th>\n      <td>2015-06-30</td>\n      <td>5</td>\n      <td>6635</td>\n      <td>645</td>\n      <td>1</td>\n      <td>1</td>\n      <td>2</td>\n      <td>0</td>\n      <td>0</td>\n    </tr>\n    <tr>\n      <th>...</th>\n      <td>...</td>\n      <td>...</td>\n      <td>...</td>\n      <td>...</td>\n      <td>...</td>\n      <td>...</td>\n      <td>...</td>\n      <td>...</td>\n      <td>...</td>\n    </tr>\n    <tr>\n      <th>982639</th>\n      <td>2013-01-01</td>\n      <td>1111</td>\n      <td>0</td>\n      <td>0</td>\n      <td>0</td>\n      <td>0</td>\n      <td>2</td>\n      <td>a</td>\n      <td>1</td>\n    </tr>\n    <tr>\n      <th>982640</th>\n      <td>2013-01-01</td>\n      <td>1112</td>\n      <td>0</td>\n      <td>0</td>\n      <td>0</td>\n      <td>0</td>\n      <td>2</td>\n      <td>a</td>\n      <td>1</td>\n    </tr>\n    <tr>\n      <th>982641</th>\n      <td>2013-01-01</td>\n      <td>1113</td>\n      <td>0</td>\n      <td>0</td>\n      <td>0</td>\n      <td>0</td>\n      <td>2</td>\n      <td>a</td>\n      <td>1</td>\n    </tr>\n    <tr>\n      <th>982642</th>\n      <td>2013-01-01</td>\n      <td>1114</td>\n      <td>0</td>\n      <td>0</td>\n      <td>0</td>\n      <td>0</td>\n      <td>2</td>\n      <td>a</td>\n      <td>1</td>\n    </tr>\n    <tr>\n      <th>982643</th>\n      <td>2013-01-01</td>\n      <td>1115</td>\n      <td>0</td>\n      <td>0</td>\n      <td>0</td>\n      <td>0</td>\n      <td>2</td>\n      <td>a</td>\n      <td>1</td>\n    </tr>\n  </tbody>\n</table>\n<p>982644 rows × 9 columns</p>\n</div>"
     },
     "metadata": {},
     "execution_count": 17
    }
   ],
   "source": [
    "#analyse unsuccesful stores --- with less customers\n",
    "#analyse the most profitable days\n",
    "# efectele vacantelor \n",
    "# evolutia individuala a magazinelor\n",
    "# outlieri\n",
    "#magazinele nu sunt inchise in acelasi timp in corelatie cu vacanta"
   ]
  }
 ]
}