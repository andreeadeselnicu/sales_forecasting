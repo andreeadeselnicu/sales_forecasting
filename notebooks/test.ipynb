{
 "metadata": {
  "language_info": {
   "codemirror_mode": {
    "name": "ipython",
    "version": 3
   },
   "file_extension": ".py",
   "mimetype": "text/x-python",
   "name": "python",
   "nbconvert_exporter": "python",
   "pygments_lexer": "ipython3",
   "version": "3.7.2"
  },
  "orig_nbformat": 2,
  "kernelspec": {
   "name": "python372jvsc74a57bd03db3eb6bc82ac8c0fe34b96ed3ffb0ea50ed8ded0ae7c6eee4350a77a6ca4770",
   "display_name": "Python 3.7.2 32-bit ('sales-forecasting-TH79oIx8-py3.7': poetry)"
  }
 },
 "nbformat": 4,
 "nbformat_minor": 2,
 "cells": [
  {
   "cell_type": "code",
   "execution_count": 1,
   "metadata": {},
   "outputs": [],
   "source": [
    "%reload_ext autoreload\n",
    "%autoreload 2"
   ]
  },
  {
   "source": [
    "from sales_forecasting.api import model"
   ],
   "cell_type": "code",
   "metadata": {},
   "execution_count": 3,
   "outputs": []
  },
  {
   "cell_type": "code",
   "execution_count": 4,
   "metadata": {},
   "outputs": [
    {
     "output_type": "stream",
     "name": "stdout",
     "text": [
      "yey\n"
     ]
    }
   ],
   "source": [
    "from sales_forecasting.domain import sales\n",
    "sales.test_function()"
   ]
  }
 ]
}